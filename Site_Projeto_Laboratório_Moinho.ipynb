{
  "nbformat": 4,
  "nbformat_minor": 0,
  "metadata": {
    "colab": {
      "private_outputs": true,
      "provenance": []
    },
    "kernelspec": {
      "name": "python3",
      "display_name": "Python 3"
    },
    "language_info": {
      "name": "python"
    }
  },
  "cells": [
    {
      "cell_type": "code",
      "execution_count": null,
      "metadata": {
        "collapsed": true,
        "id": "g_qs4fy3KmYH"
      },
      "outputs": [],
      "source": [
        "!pip install streamlit"
      ]
    },
    {
      "cell_type": "code",
      "source": [
        "%%writefile app.py\n",
        "import streamlit as st\n",
        "\n",
        "# Configurando o layout da página como \"wide\" para usar toda a largura da tela\n",
        "st.set_page_config(layout=\"wide\")\n",
        "\n",
        "st.title(\"Registro de Batidas de Ponto\")\n",
        "\n",
        "colaborador = st.text_input(\"Nome do Colaborador\")\n",
        "data = st.date_input(\"Data\", datetime.date.today())\n",
        "hora_entrada = st.time_input(\"Horário de Entrada\")\n",
        "hora_saida = st.time_input(\"Horário de Saída\")\n",
        "pausa = st.time_input(\"Pausa\")\n",
        "\n",
        "if st.button(\"Registrar\"):\n",
        "    # Adiciona os dados na planilha\n",
        "    sheet.append_row([colaborador, str(data), str(hora_entrada), str(hora_saida), str(pausa)])\n",
        "    st.success(\"Batida registrada com sucesso!\")\n",
        "\n",
        "\n",
        "\n",
        "# Menu lateral para selecionar a página\n",
        "st.sidebar.title('Navegação')\n"
      ],
      "metadata": {
        "id": "cvId4kg74Bod"
      },
      "execution_count": null,
      "outputs": []
    },
    {
      "cell_type": "code",
      "source": [
        "!streamlit run app.py &> /dev/null &\n"
      ],
      "metadata": {
        "id": "NDJmMpmWP7CF"
      },
      "execution_count": null,
      "outputs": []
    }
  ]
}